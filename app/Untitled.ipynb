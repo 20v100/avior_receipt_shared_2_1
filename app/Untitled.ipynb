{
 "cells": [
  {
   "cell_type": "code",
   "execution_count": 8,
   "id": "d229adff-3fd3-4814-8b48-d6e957f41588",
   "metadata": {},
   "outputs": [
    {
     "data": {
      "text/plain": [
       "False"
      ]
     },
     "execution_count": 8,
     "metadata": {},
     "output_type": "execute_result"
    }
   ],
   "source": [
    "warlock_not_alpha = {1,2,} "
   ]
  },
  {
   "cell_type": "code",
   "execution_count": 14,
   "id": "e41ab5a0-d2e8-4679-a065-fe3e7e8d1757",
   "metadata": {},
   "outputs": [],
   "source": [
    "numeric_vocab = [\"0\", \"1\", \"2\", \"3\", \"4\", \"5\", \"6\", \"7\", \"8\", \"9\", \".\", \",\"]"
   ]
  },
  {
   "cell_type": "code",
   "execution_count": 13,
   "id": "394f5d26-66f1-4cf9-a0d0-e28a41b6a12d",
   "metadata": {},
   "outputs": [
    {
     "data": {
      "text/plain": [
       "True"
      ]
     },
     "execution_count": 13,
     "metadata": {},
     "output_type": "execute_result"
    }
   ],
   "source": [
    "any(char in numeric_vocab for char in \"t1ers\")"
   ]
  },
  {
   "cell_type": "code",
   "execution_count": null,
   "id": "70b645c0-e8a3-4c56-8316-407e24ce5574",
   "metadata": {},
   "outputs": [],
   "source": []
  }
 ],
 "metadata": {
  "kernelspec": {
   "display_name": "Python 3",
   "language": "python",
   "name": "python3"
  },
  "language_info": {
   "codemirror_mode": {
    "name": "ipython",
    "version": 3
   },
   "file_extension": ".py",
   "mimetype": "text/x-python",
   "name": "python",
   "nbconvert_exporter": "python",
   "pygments_lexer": "ipython3",
   "version": "3.9.2"
  }
 },
 "nbformat": 4,
 "nbformat_minor": 5
}
